{
 "cells": [
  {
   "cell_type": "code",
   "execution_count": 9,
   "id": "6cacdd14-bf7f-46f8-989b-1f85b1d41544",
   "metadata": {},
   "outputs": [
    {
     "name": "stdout",
     "output_type": "stream",
     "text": [
      "hello world\n"
     ]
    }
   ],
   "source": [
    "tulisan='hello world'\n",
    "print(tulisan)"
   ]
  },
  {
   "cell_type": "code",
   "execution_count": 10,
   "id": "9e655318-c502-4b30-ad8c-35008ac8bae4",
   "metadata": {},
   "outputs": [
    {
     "name": "stdout",
     "output_type": "stream",
     "text": [
      "utf-8 format: b'hello world'\n",
      "ascii format: b'hello world'\n",
      "\n",
      "104 101 108 108 111 32 119 111 114 108 100 \n",
      "104 101 108 108 111 32 119 111 114 108 100 "
     ]
    }
   ],
   "source": [
    "# arr = bytes(string, 'utf-8')\n",
    "# arr2 = bytes(string, 'ascii')\n",
    "\n",
    "convert = bytes(tulisan, 'utf-8')\n",
    "convert2 = bytes(tulisan, 'ascii')\n",
    "\n",
    "# string with encoding 'utf-8' and 'ascii'\n",
    "print(f'utf-8 format: {convert}')\n",
    "print(f'ascii format: {convert2}')\n",
    "print()\n",
    "\n",
    "# actual byte in string\n",
    "for byte in convert:\n",
    "    print(byte, end=' ')\n",
    "print()\n",
    "\n",
    "for byte in convert2:\n",
    "    print(byte, end=' ')"
   ]
  }
 ],
 "metadata": {
  "kernelspec": {
   "display_name": "Python 3 (ipykernel)",
   "language": "python",
   "name": "python3"
  },
  "language_info": {
   "codemirror_mode": {
    "name": "ipython",
    "version": 3
   },
   "file_extension": ".py",
   "mimetype": "text/x-python",
   "name": "python",
   "nbconvert_exporter": "python",
   "pygments_lexer": "ipython3",
   "version": "3.9.10"
  }
 },
 "nbformat": 4,
 "nbformat_minor": 5
}
